{
 "cells": [
  {
   "cell_type": "code",
   "execution_count": 26,
   "id": "6ca8a4df-af55-4a3b-a70a-7871f8600da9",
   "metadata": {},
   "outputs": [],
   "source": [
    "import numpy as np\n",
    "import pandas as pd\n",
    "import seaborn as sns\n",
    "import matplotlib.pyplot as plt\n",
    "%matplotlib inline \n",
    "sns.set(style=\"ticks\")"
   ]
  },
  {
   "cell_type": "code",
   "execution_count": 27,
   "id": "7b4b992b-75c5-4920-aa6c-2109131403e5",
   "metadata": {},
   "outputs": [],
   "source": [
    "data = pd.read_csv('Documents/cardekho.csv', sep=\",\")"
   ]
  },
  {
   "cell_type": "code",
   "execution_count": 28,
   "id": "cc4246ff-6c4a-499a-b5bf-59ec643ffc82",
   "metadata": {},
   "outputs": [
    {
     "data": {
      "text/plain": [
       "(8128, 12)"
      ]
     },
     "execution_count": 28,
     "metadata": {},
     "output_type": "execute_result"
    }
   ],
   "source": [
    "data.shape"
   ]
  },
  {
   "cell_type": "code",
   "execution_count": 29,
   "id": "51213da0-1395-4b57-9984-3cf226bce31b",
   "metadata": {},
   "outputs": [
    {
     "data": {
      "text/plain": [
       "name                   object\n",
       "year                    int64\n",
       "selling_price           int64\n",
       "km_driven               int64\n",
       "fuel                   object\n",
       "seller_type            object\n",
       "transmission           object\n",
       "owner                  object\n",
       "mileage(km/ltr/kg)    float64\n",
       "engine                float64\n",
       "max_power              object\n",
       "seats                 float64\n",
       "dtype: object"
      ]
     },
     "execution_count": 29,
     "metadata": {},
     "output_type": "execute_result"
    }
   ],
   "source": [
    "data.dtypes"
   ]
  },
  {
   "cell_type": "code",
   "execution_count": 30,
   "id": "f80d972c-ee9c-43ea-94c3-7c603cc9b1c9",
   "metadata": {},
   "outputs": [
    {
     "data": {
      "text/plain": [
       "name                    0\n",
       "year                    0\n",
       "selling_price           0\n",
       "km_driven               0\n",
       "fuel                    0\n",
       "seller_type             0\n",
       "transmission            0\n",
       "owner                   0\n",
       "mileage(km/ltr/kg)    221\n",
       "engine                221\n",
       "max_power             215\n",
       "seats                 221\n",
       "dtype: int64"
      ]
     },
     "execution_count": 30,
     "metadata": {},
     "output_type": "execute_result"
    }
   ],
   "source": [
    "data.isnull().sum()"
   ]
  },
  {
   "cell_type": "code",
   "execution_count": 31,
   "id": "101aa2ce-749d-4d34-9f53-a6210de67e7f",
   "metadata": {},
   "outputs": [
    {
     "data": {
      "text/html": [
       "<div>\n",
       "<style scoped>\n",
       "    .dataframe tbody tr th:only-of-type {\n",
       "        vertical-align: middle;\n",
       "    }\n",
       "\n",
       "    .dataframe tbody tr th {\n",
       "        vertical-align: top;\n",
       "    }\n",
       "\n",
       "    .dataframe thead th {\n",
       "        text-align: right;\n",
       "    }\n",
       "</style>\n",
       "<table border=\"1\" class=\"dataframe\">\n",
       "  <thead>\n",
       "    <tr style=\"text-align: right;\">\n",
       "      <th></th>\n",
       "      <th>name</th>\n",
       "      <th>year</th>\n",
       "      <th>selling_price</th>\n",
       "      <th>km_driven</th>\n",
       "      <th>fuel</th>\n",
       "      <th>seller_type</th>\n",
       "      <th>transmission</th>\n",
       "      <th>owner</th>\n",
       "      <th>mileage(km/ltr/kg)</th>\n",
       "      <th>engine</th>\n",
       "      <th>max_power</th>\n",
       "      <th>seats</th>\n",
       "    </tr>\n",
       "  </thead>\n",
       "  <tbody>\n",
       "    <tr>\n",
       "      <th>0</th>\n",
       "      <td>Maruti Swift Dzire VDI</td>\n",
       "      <td>2014</td>\n",
       "      <td>450000</td>\n",
       "      <td>145500</td>\n",
       "      <td>Diesel</td>\n",
       "      <td>Individual</td>\n",
       "      <td>Manual</td>\n",
       "      <td>First Owner</td>\n",
       "      <td>23.40</td>\n",
       "      <td>1248.0</td>\n",
       "      <td>74</td>\n",
       "      <td>5.0</td>\n",
       "    </tr>\n",
       "    <tr>\n",
       "      <th>1</th>\n",
       "      <td>Skoda Rapid 1.5 TDI Ambition</td>\n",
       "      <td>2014</td>\n",
       "      <td>370000</td>\n",
       "      <td>120000</td>\n",
       "      <td>Diesel</td>\n",
       "      <td>Individual</td>\n",
       "      <td>Manual</td>\n",
       "      <td>Second Owner</td>\n",
       "      <td>21.14</td>\n",
       "      <td>1498.0</td>\n",
       "      <td>103.52</td>\n",
       "      <td>5.0</td>\n",
       "    </tr>\n",
       "    <tr>\n",
       "      <th>2</th>\n",
       "      <td>Honda City 2017-2020 EXi</td>\n",
       "      <td>2006</td>\n",
       "      <td>158000</td>\n",
       "      <td>140000</td>\n",
       "      <td>Petrol</td>\n",
       "      <td>Individual</td>\n",
       "      <td>Manual</td>\n",
       "      <td>Third Owner</td>\n",
       "      <td>17.70</td>\n",
       "      <td>1497.0</td>\n",
       "      <td>78</td>\n",
       "      <td>5.0</td>\n",
       "    </tr>\n",
       "    <tr>\n",
       "      <th>3</th>\n",
       "      <td>Hyundai i20 Sportz Diesel</td>\n",
       "      <td>2010</td>\n",
       "      <td>225000</td>\n",
       "      <td>127000</td>\n",
       "      <td>Diesel</td>\n",
       "      <td>Individual</td>\n",
       "      <td>Manual</td>\n",
       "      <td>First Owner</td>\n",
       "      <td>23.00</td>\n",
       "      <td>1396.0</td>\n",
       "      <td>90</td>\n",
       "      <td>5.0</td>\n",
       "    </tr>\n",
       "    <tr>\n",
       "      <th>4</th>\n",
       "      <td>Maruti Swift VXI BSIII</td>\n",
       "      <td>2007</td>\n",
       "      <td>130000</td>\n",
       "      <td>120000</td>\n",
       "      <td>Petrol</td>\n",
       "      <td>Individual</td>\n",
       "      <td>Manual</td>\n",
       "      <td>First Owner</td>\n",
       "      <td>16.10</td>\n",
       "      <td>1298.0</td>\n",
       "      <td>88.2</td>\n",
       "      <td>5.0</td>\n",
       "    </tr>\n",
       "  </tbody>\n",
       "</table>\n",
       "</div>"
      ],
      "text/plain": [
       "                           name  year  selling_price  km_driven    fuel  \\\n",
       "0        Maruti Swift Dzire VDI  2014         450000     145500  Diesel   \n",
       "1  Skoda Rapid 1.5 TDI Ambition  2014         370000     120000  Diesel   \n",
       "2      Honda City 2017-2020 EXi  2006         158000     140000  Petrol   \n",
       "3     Hyundai i20 Sportz Diesel  2010         225000     127000  Diesel   \n",
       "4        Maruti Swift VXI BSIII  2007         130000     120000  Petrol   \n",
       "\n",
       "  seller_type transmission         owner  mileage(km/ltr/kg)  engine  \\\n",
       "0  Individual       Manual   First Owner               23.40  1248.0   \n",
       "1  Individual       Manual  Second Owner               21.14  1498.0   \n",
       "2  Individual       Manual   Third Owner               17.70  1497.0   \n",
       "3  Individual       Manual   First Owner               23.00  1396.0   \n",
       "4  Individual       Manual   First Owner               16.10  1298.0   \n",
       "\n",
       "  max_power  seats  \n",
       "0        74    5.0  \n",
       "1    103.52    5.0  \n",
       "2        78    5.0  \n",
       "3        90    5.0  \n",
       "4      88.2    5.0  "
      ]
     },
     "execution_count": 31,
     "metadata": {},
     "output_type": "execute_result"
    }
   ],
   "source": [
    "data.head()"
   ]
  },
  {
   "cell_type": "code",
   "execution_count": 32,
   "id": "40050795-7e4f-4298-83a2-0a3b3aa206c0",
   "metadata": {},
   "outputs": [
    {
     "name": "stdout",
     "output_type": "stream",
     "text": [
      "Всего строк: 8128\n"
     ]
    }
   ],
   "source": [
    "total_count = data.shape[0]\n",
    "print('Всего строк: {}'.format(total_count))"
   ]
  },
  {
   "cell_type": "code",
   "execution_count": 33,
   "id": "99408b4f-a5a6-4b8b-9486-e828e19b48ea",
   "metadata": {},
   "outputs": [
    {
     "name": "stdout",
     "output_type": "stream",
     "text": [
      "Колонка mileage(km/ltr/kg). Тип данных float64. Количество пустых значений 221, 2.72%.\n",
      "Колонка engine. Тип данных float64. Количество пустых значений 221, 2.72%.\n",
      "Колонка seats. Тип данных float64. Количество пустых значений 221, 2.72%.\n"
     ]
    }
   ],
   "source": [
    "# Выберем числовые колонки с пропущенными значениями\n",
    "# Цикл по колонкам датасета\n",
    "num_cols = []\n",
    "for col in data.columns:\n",
    "    # Количество пустых значений \n",
    "    temp_null_count = data[data[col].isnull()].shape[0]\n",
    "    dt = str(data[col].dtype)\n",
    "    if temp_null_count>0 and (dt=='float64' or dt=='int64'):\n",
    "        num_cols.append(col)\n",
    "        temp_perc = round((temp_null_count / total_count) * 100.0, 2)\n",
    "        print('Колонка {}. Тип данных {}. Количество пустых значений {}, {}%.'.format(col, dt, temp_null_count, temp_perc))"
   ]
  },
  {
   "cell_type": "code",
   "execution_count": 34,
   "id": "da473264-8503-4e35-9b6c-397858b4160d",
   "metadata": {},
   "outputs": [
    {
     "data": {
      "text/html": [
       "<div>\n",
       "<style scoped>\n",
       "    .dataframe tbody tr th:only-of-type {\n",
       "        vertical-align: middle;\n",
       "    }\n",
       "\n",
       "    .dataframe tbody tr th {\n",
       "        vertical-align: top;\n",
       "    }\n",
       "\n",
       "    .dataframe thead th {\n",
       "        text-align: right;\n",
       "    }\n",
       "</style>\n",
       "<table border=\"1\" class=\"dataframe\">\n",
       "  <thead>\n",
       "    <tr style=\"text-align: right;\">\n",
       "      <th></th>\n",
       "      <th>mileage(km/ltr/kg)</th>\n",
       "      <th>engine</th>\n",
       "      <th>seats</th>\n",
       "    </tr>\n",
       "  </thead>\n",
       "  <tbody>\n",
       "    <tr>\n",
       "      <th>0</th>\n",
       "      <td>23.40</td>\n",
       "      <td>1248.0</td>\n",
       "      <td>5.0</td>\n",
       "    </tr>\n",
       "    <tr>\n",
       "      <th>1</th>\n",
       "      <td>21.14</td>\n",
       "      <td>1498.0</td>\n",
       "      <td>5.0</td>\n",
       "    </tr>\n",
       "    <tr>\n",
       "      <th>2</th>\n",
       "      <td>17.70</td>\n",
       "      <td>1497.0</td>\n",
       "      <td>5.0</td>\n",
       "    </tr>\n",
       "    <tr>\n",
       "      <th>3</th>\n",
       "      <td>23.00</td>\n",
       "      <td>1396.0</td>\n",
       "      <td>5.0</td>\n",
       "    </tr>\n",
       "    <tr>\n",
       "      <th>4</th>\n",
       "      <td>16.10</td>\n",
       "      <td>1298.0</td>\n",
       "      <td>5.0</td>\n",
       "    </tr>\n",
       "    <tr>\n",
       "      <th>...</th>\n",
       "      <td>...</td>\n",
       "      <td>...</td>\n",
       "      <td>...</td>\n",
       "    </tr>\n",
       "    <tr>\n",
       "      <th>8123</th>\n",
       "      <td>18.50</td>\n",
       "      <td>1197.0</td>\n",
       "      <td>5.0</td>\n",
       "    </tr>\n",
       "    <tr>\n",
       "      <th>8124</th>\n",
       "      <td>16.80</td>\n",
       "      <td>1493.0</td>\n",
       "      <td>5.0</td>\n",
       "    </tr>\n",
       "    <tr>\n",
       "      <th>8125</th>\n",
       "      <td>19.30</td>\n",
       "      <td>1248.0</td>\n",
       "      <td>5.0</td>\n",
       "    </tr>\n",
       "    <tr>\n",
       "      <th>8126</th>\n",
       "      <td>23.57</td>\n",
       "      <td>1396.0</td>\n",
       "      <td>5.0</td>\n",
       "    </tr>\n",
       "    <tr>\n",
       "      <th>8127</th>\n",
       "      <td>23.57</td>\n",
       "      <td>1396.0</td>\n",
       "      <td>5.0</td>\n",
       "    </tr>\n",
       "  </tbody>\n",
       "</table>\n",
       "<p>8128 rows × 3 columns</p>\n",
       "</div>"
      ],
      "text/plain": [
       "      mileage(km/ltr/kg)  engine  seats\n",
       "0                  23.40  1248.0    5.0\n",
       "1                  21.14  1498.0    5.0\n",
       "2                  17.70  1497.0    5.0\n",
       "3                  23.00  1396.0    5.0\n",
       "4                  16.10  1298.0    5.0\n",
       "...                  ...     ...    ...\n",
       "8123               18.50  1197.0    5.0\n",
       "8124               16.80  1493.0    5.0\n",
       "8125               19.30  1248.0    5.0\n",
       "8126               23.57  1396.0    5.0\n",
       "8127               23.57  1396.0    5.0\n",
       "\n",
       "[8128 rows x 3 columns]"
      ]
     },
     "execution_count": 34,
     "metadata": {},
     "output_type": "execute_result"
    }
   ],
   "source": [
    "data_num = data[num_cols]\n",
    "data_num"
   ]
  },
  {
   "cell_type": "code",
   "execution_count": 35,
   "id": "3581b590-484b-4099-8062-54ff9fe3f62e",
   "metadata": {},
   "outputs": [
    {
     "data": {
      "image/png": "[encoded data removed]",
      "text/plain": [
       "<Figure size 640x480 with 1 Axes>"
      ]
     },
     "metadata": {},
     "output_type": "display_data"
    },
    {
     "data": {
      "image/png": "[encoded data removed]",
      "text/plain": [
       "<Figure size 640x480 with 1 Axes>"
      ]
     },
     "metadata": {},
     "output_type": "display_data"
    },
    {
     "data": {
      "image/png": "[encoded data removed]",
      "text/plain": [
       "<Figure size 640x480 with 1 Axes>"
      ]
     },
     "metadata": {},
     "output_type": "display_data"
    }
   ],
   "source": [
    "for col in data_num:\n",
    "    plt.hist(data[col], 50)\n",
    "    plt.xlabel(col)\n",
    "    plt.show()"
   ]
  },
  {
   "cell_type": "code",
   "execution_count": 36,
   "id": "58863c88-51d3-4b4f-9940-b0b1e042c0fb",
   "metadata": {},
   "outputs": [
    {
     "data": {
      "text/html": [
       "<div>\n",
       "<style scoped>\n",
       "    .dataframe tbody tr th:only-of-type {\n",
       "        vertical-align: middle;\n",
       "    }\n",
       "\n",
       "    .dataframe tbody tr th {\n",
       "        vertical-align: top;\n",
       "    }\n",
       "\n",
       "    .dataframe thead th {\n",
       "        text-align: right;\n",
       "    }\n",
       "</style>\n",
       "<table border=\"1\" class=\"dataframe\">\n",
       "  <thead>\n",
       "    <tr style=\"text-align: right;\">\n",
       "      <th></th>\n",
       "      <th>engine</th>\n",
       "    </tr>\n",
       "  </thead>\n",
       "  <tbody>\n",
       "    <tr>\n",
       "      <th>0</th>\n",
       "      <td>1248.0</td>\n",
       "    </tr>\n",
       "    <tr>\n",
       "      <th>1</th>\n",
       "      <td>1498.0</td>\n",
       "    </tr>\n",
       "    <tr>\n",
       "      <th>2</th>\n",
       "      <td>1497.0</td>\n",
       "    </tr>\n",
       "    <tr>\n",
       "      <th>3</th>\n",
       "      <td>1396.0</td>\n",
       "    </tr>\n",
       "    <tr>\n",
       "      <th>4</th>\n",
       "      <td>1298.0</td>\n",
       "    </tr>\n",
       "  </tbody>\n",
       "</table>\n",
       "</div>"
      ],
      "text/plain": [
       "   engine\n",
       "0  1248.0\n",
       "1  1498.0\n",
       "2  1497.0\n",
       "3  1396.0\n",
       "4  1298.0"
      ]
     },
     "execution_count": 36,
     "metadata": {},
     "output_type": "execute_result"
    }
   ],
   "source": [
    "data_num_engine = data_num[['engine']]\n",
    "data_num_engine.head()"
   ]
  },
  {
   "cell_type": "code",
   "execution_count": 37,
   "id": "c7fed299-93b7-47ab-a308-89551c303cd1",
   "metadata": {},
   "outputs": [],
   "source": [
    "from sklearn.impute import SimpleImputer\n",
    "from sklearn.impute import MissingIndicator"
   ]
  },
  {
   "cell_type": "code",
   "execution_count": 38,
   "id": "a3fd3e48-98c9-49e2-857f-eb698b80767a",
   "metadata": {},
   "outputs": [
    {
     "data": {
      "text/plain": [
       "array([[False],\n",
       "       [False],\n",
       "       [False],\n",
       "       ...,\n",
       "       [False],\n",
       "       [False],\n",
       "       [False]])"
      ]
     },
     "execution_count": 38,
     "metadata": {},
     "output_type": "execute_result"
    }
   ],
   "source": [
    "# Фильтр для проверки заполнения пустых значений\n",
    "indicator = MissingIndicator()\n",
    "mask_missing_values_only = indicator.fit_transform(data_num_engine)\n",
    "mask_missing_values_only"
   ]
  },
  {
   "cell_type": "code",
   "execution_count": 39,
   "id": "a8da3f15-ee98-488a-abdd-22ebd4a50013",
   "metadata": {},
   "outputs": [],
   "source": [
    "strategies=['mean', 'median', 'most_frequent']"
   ]
  },
  {
   "cell_type": "code",
   "execution_count": 42,
   "id": "d14c456a-5920-44c9-affa-69cf896dc535",
   "metadata": {},
   "outputs": [],
   "source": [
    "def test_num_impute(strategy_param):\n",
    "    imp_num = SimpleImputer(strategy=strategy_param)\n",
    "    data_num_imp = imp_num.fit_transform(data_num_engine)\n",
    "    return data_num_imp[mask_missing_values_only]"
   ]
  },
  {
   "cell_type": "code",
   "execution_count": 43,
   "id": "aa2ffcfc-24be-442e-9aa9-4e264e93a6bf",
   "metadata": {},
   "outputs": [
    {
     "data": {
      "text/plain": [
       "('mean',\n",
       " array([1458.62501581, 1458.62501581, 1458.62501581, 1458.62501581,\n",
       "        1458.62501581, 1458.62501581, 1458.62501581, 1458.62501581,\n",
       "        1458.62501581, 1458.62501581, 1458.62501581, 1458.62501581,\n",
       "        1458.62501581, 1458.62501581, 1458.62501581, 1458.62501581,\n",
       "        1458.62501581, 1458.62501581, 1458.62501581, 1458.62501581,\n",
       "        1458.62501581, 1458.62501581, 1458.62501581, 1458.62501581,\n",
       "        1458.62501581, 1458.62501581, 1458.62501581, 1458.62501581,\n",
       "        1458.62501581, 1458.62501581, 1458.62501581, 1458.62501581,\n",
       "        1458.62501581, 1458.62501581, 1458.62501581, 1458.62501581,\n",
       "        1458.62501581, 1458.62501581, 1458.62501581, 1458.62501581,\n",
       "        1458.62501581, 1458.62501581, 1458.62501581, 1458.62501581,\n",
       "        1458.62501581, 1458.62501581, 1458.62501581, 1458.62501581,\n",
       "        1458.62501581, 1458.62501581, 1458.62501581, 1458.62501581,\n",
       "        1458.62501581, 1458.62501581, 1458.62501581, 1458.62501581,\n",
       "        1458.62501581, 1458.62501581, 1458.62501581, 1458.62501581,\n",
       "        1458.62501581, 1458.62501581, 1458.62501581, 1458.62501581,\n",
       "        1458.62501581, 1458.62501581, 1458.62501581, 1458.62501581,\n",
       "        1458.62501581, 1458.62501581, 1458.62501581, 1458.62501581,\n",
       "        1458.62501581, 1458.62501581, 1458.62501581, 1458.62501581,\n",
       "        1458.62501581, 1458.62501581, 1458.62501581, 1458.62501581,\n",
       "        1458.62501581, 1458.62501581, 1458.62501581, 1458.62501581,\n",
       "        1458.62501581, 1458.62501581, 1458.62501581, 1458.62501581,\n",
       "        1458.62501581, 1458.62501581, 1458.62501581, 1458.62501581,\n",
       "        1458.62501581, 1458.62501581, 1458.62501581, 1458.62501581,\n",
       "        1458.62501581, 1458.62501581, 1458.62501581, 1458.62501581,\n",
       "        1458.62501581, 1458.62501581, 1458.62501581, 1458.62501581,\n",
       "        1458.62501581, 1458.62501581, 1458.62501581, 1458.62501581,\n",
       "        1458.62501581, 1458.62501581, 1458.62501581, 1458.62501581,\n",
       "        1458.62501581, 1458.62501581, 1458.62501581, 1458.62501581,\n",
       "        1458.62501581, 1458.62501581, 1458.62501581, 1458.62501581,\n",
       "        1458.62501581, 1458.62501581, 1458.62501581, 1458.62501581,\n",
       "        1458.62501581, 1458.62501581, 1458.62501581, 1458.62501581,\n",
       "        1458.62501581, 1458.62501581, 1458.62501581, 1458.62501581,\n",
       "        1458.62501581, 1458.62501581, 1458.62501581, 1458.62501581,\n",
       "        1458.62501581, 1458.62501581, 1458.62501581, 1458.62501581,\n",
       "        1458.62501581, 1458.62501581, 1458.62501581, 1458.62501581,\n",
       "        1458.62501581, 1458.62501581, 1458.62501581, 1458.62501581,\n",
       "        1458.62501581, 1458.62501581, 1458.62501581, 1458.62501581,\n",
       "        1458.62501581, 1458.62501581, 1458.62501581, 1458.62501581,\n",
       "        1458.62501581, 1458.62501581, 1458.62501581, 1458.62501581,\n",
       "        1458.62501581, 1458.62501581, 1458.62501581, 1458.62501581,\n",
       "        1458.62501581, 1458.62501581, 1458.62501581, 1458.62501581,\n",
       "        1458.62501581, 1458.62501581, 1458.62501581, 1458.62501581,\n",
       "        1458.62501581, 1458.62501581, 1458.62501581, 1458.62501581,\n",
       "        1458.62501581, 1458.62501581, 1458.62501581, 1458.62501581,\n",
       "        1458.62501581, 1458.62501581, 1458.62501581, 1458.62501581,\n",
       "        1458.62501581, 1458.62501581, 1458.62501581, 1458.62501581,\n",
       "        1458.62501581, 1458.62501581, 1458.62501581, 1458.62501581,\n",
       "        1458.62501581, 1458.62501581, 1458.62501581, 1458.62501581,\n",
       "        1458.62501581, 1458.62501581, 1458.62501581, 1458.62501581,\n",
       "        1458.62501581, 1458.62501581, 1458.62501581, 1458.62501581,\n",
       "        1458.62501581, 1458.62501581, 1458.62501581, 1458.62501581,\n",
       "        1458.62501581, 1458.62501581, 1458.62501581, 1458.62501581,\n",
       "        1458.62501581, 1458.62501581, 1458.62501581, 1458.62501581,\n",
       "        1458.62501581, 1458.62501581, 1458.62501581, 1458.62501581,\n",
       "        1458.62501581]))"
      ]
     },
     "execution_count": 43,
     "metadata": {},
     "output_type": "execute_result"
    }
   ],
   "source": [
    "strategies[0], test_num_impute(strategies[0])"
   ]
  },
  {
   "cell_type": "code",
   "execution_count": 44,
   "id": "b32ea296-28ad-44fc-ae90-54d9181e58ac",
   "metadata": {},
   "outputs": [
    {
     "name": "stdout",
     "output_type": "stream",
     "text": [
      "Колонка max_power. Тип данных object. Количество пустых значений 215, 2.65%.\n"
     ]
    }
   ],
   "source": [
    "# Выберем категориальные колонки с пропущенными значениями\n",
    "# Цикл по колонкам датасета\n",
    "cat_cols = []\n",
    "for col in data.columns:\n",
    "    # Количество пустых значений \n",
    "    temp_null_count = data[data[col].isnull()].shape[0]\n",
    "    dt = str(data[col].dtype)\n",
    "    if temp_null_count>0 and (dt=='object'):\n",
    "        cat_cols.append(col)\n",
    "        temp_perc = round((temp_null_count / total_count) * 100.0, 2)\n",
    "        print('Колонка {}. Тип данных {}. Количество пустых значений {}, {}%.'.format(col, dt, temp_null_count, temp_perc))"
   ]
  },
  {
   "cell_type": "code",
   "execution_count": 45,
   "id": "6b88e5fb-7f5b-4cf7-b702-a3e7b5541332",
   "metadata": {},
   "outputs": [
    {
     "data": {
      "text/html": [
       "<div>\n",
       "<style scoped>\n",
       "    .dataframe tbody tr th:only-of-type {\n",
       "        vertical-align: middle;\n",
       "    }\n",
       "\n",
       "    .dataframe tbody tr th {\n",
       "        vertical-align: top;\n",
       "    }\n",
       "\n",
       "    .dataframe thead th {\n",
       "        text-align: right;\n",
       "    }\n",
       "</style>\n",
       "<table border=\"1\" class=\"dataframe\">\n",
       "  <thead>\n",
       "    <tr style=\"text-align: right;\">\n",
       "      <th></th>\n",
       "      <th>max_power</th>\n",
       "    </tr>\n",
       "  </thead>\n",
       "  <tbody>\n",
       "    <tr>\n",
       "      <th>0</th>\n",
       "      <td>74</td>\n",
       "    </tr>\n",
       "    <tr>\n",
       "      <th>1</th>\n",
       "      <td>103.52</td>\n",
       "    </tr>\n",
       "    <tr>\n",
       "      <th>2</th>\n",
       "      <td>78</td>\n",
       "    </tr>\n",
       "    <tr>\n",
       "      <th>3</th>\n",
       "      <td>90</td>\n",
       "    </tr>\n",
       "    <tr>\n",
       "      <th>4</th>\n",
       "      <td>88.2</td>\n",
       "    </tr>\n",
       "  </tbody>\n",
       "</table>\n",
       "</div>"
      ],
      "text/plain": [
       "  max_power\n",
       "0        74\n",
       "1    103.52\n",
       "2        78\n",
       "3        90\n",
       "4      88.2"
      ]
     },
     "execution_count": 45,
     "metadata": {},
     "output_type": "execute_result"
    }
   ],
   "source": [
    "cat_temp_data = data[['max_power']]\n",
    "cat_temp_data.head()"
   ]
  },
  {
   "cell_type": "code",
   "execution_count": 46,
   "id": "275fe6d0-fe76-4c82-8cf8-d32fae848b39",
   "metadata": {},
   "outputs": [
    {
     "data": {
      "text/plain": [
       "array(['74', '103.52', '78', '90', '88.2', '81.86', '57.5', '37', '67.1',\n",
       "       '68.1', '108.45', '60', '73.9', nan, '67', '82', '88.5', '46.3',\n",
       "       '88.73', '64.1', '98.6', '88.8', '83.81', '83.1', '47.3', '73.8',\n",
       "       '34.2', '35', '81.83', '40.3', '121.3', '138.03', '160.77',\n",
       "       '117.3', '116.3', '83.14', '67.05', '168.5', '100', '120.7',\n",
       "       '98.63', '175.56', '103.25', '171.5', '100.6', '174.33', '187.74',\n",
       "       '170', '78.9', '88.76', '86.8', '108.495', '108.62', '93.7',\n",
       "       '103.6', '98.59', '189', '67.04', '68.05', '58.2', '82.85', '81.8',\n",
       "       '73', '120', '94.68', '160', '65', '155', '69.01', '126.32',\n",
       "       '138.1', '83.8', '126.2', '98.96', '62.1', '86.7', '188', '214.56',\n",
       "       '177', '280', '148.31', '254.79', '190', '177.46', '204', '141',\n",
       "       '117.6', '241.4', '282', '150', '147.5', '108.5', '103.5', '183',\n",
       "       '181.04', '157.7', '164.7', '91.1', '400', '68', '75', '85.8',\n",
       "       '87.2', '53', '118', '103.2', '83', '84', '58.16', '147.94',\n",
       "       '74.02', '53.3', '80', '88.7', '97.7', '121.36', '162', '140',\n",
       "       '94', '100.57', '82.9', '83.11', '70', '153.86', '121', '126.3',\n",
       "       '73.97', '171', '69', '99.6', '102', '105', '63', '79.4', '97.9',\n",
       "       '63.1', '66.1', '110', '174.5', '53.26', '73.75', '67.06', '64.08',\n",
       "       '37.5', '189.3', '158.8', '61.7', '55.2', '71.01', '73.74',\n",
       "       '147.9', '71', '77', '121.4', '113.4', '47', '130', '57.6', '138',\n",
       "       '52.8', '53.64', '53.5', '76.8', '82.4', '113.42', '76', '84.8',\n",
       "       '0', '56.3', '218', '112', '92', '105.5', '169', '95', '72.4',\n",
       "       '115', '152', '91.2', '156', '74.9', '62', '105.3', '73.94', '85',\n",
       "       '118.3', '72', '147.51', '58', '64', '126.24', '76.9', '194.3',\n",
       "       '99.23', '89.84', '123.7', '118.35', '99', '241', '136', '261.4',\n",
       "       '104.68', '37.48', '104', '63.12', '91.7', '102.5', '177.6', '45',\n",
       "       '123.37', '147.8', '184', '84.48', '68.07', '74.96', '167.6',\n",
       "       '152.87', '112.2', '83.83', '197', '110.4', '104.55', '103',\n",
       "       '103.3', '66', '108.6', '165', '163.7', '116.9', '94.93', '127',\n",
       "       '198.5', '179.5', '120.69', '121.31', '138.08', '187.7', '80.8',\n",
       "       '86.79', '93.87', '116.6', '143', '92.7', '88', '58.33', '78.8',\n",
       "       '64.4', '125', '139.01', '254.8', '181', '258', '55.23', '270.9',\n",
       "       '265', '157.75', '101', '186', '187.4', '224', '64.9', '148',\n",
       "       '35.5', '89.75', '32.8', '91.72', '106', '98.97', '66.6', '86',\n",
       "       '65.3', '98.82', '198.25', '38', '142', '132', '174.57', '178',\n",
       "       '163.2', '203.2', '177.5', '175', '57', '80.84', '68.4', '167.67',\n",
       "       '170.63', '52', '149.5', '48.21', ' ', '201.1', '100.5', '144',\n",
       "       '194.4', '168.7', '104.5', '103.26', '116.4', '98.79', '80.9',\n",
       "       '58.3', '272', '235', '167.62', '170.3', '139.46', '158', '110.5',\n",
       "       '82.5', '141.1', '38.4', '197.2', '161', '194', '122.4', '134.1',\n",
       "       '60.2', '134', '203', '135.1'], dtype=object)"
      ]
     },
     "execution_count": 46,
     "metadata": {},
     "output_type": "execute_result"
    }
   ],
   "source": [
    "cat_temp_data['max_power'].unique()"
   ]
  },
  {
   "cell_type": "code",
   "execution_count": 57,
   "id": "d8c4b89f-592e-4d41-9858-2a081d9fa4d0",
   "metadata": {},
   "outputs": [
    {
     "data": {
      "text/plain": [
       "(215, 1)"
      ]
     },
     "execution_count": 57,
     "metadata": {},
     "output_type": "execute_result"
    }
   ],
   "source": [
    "cat_temp_data[cat_temp_data['max_power'].isnull()].shape"
   ]
  },
  {
   "cell_type": "code",
   "execution_count": 61,
   "id": "a69d82b6-046f-4b4b-bc94-7749409a67e5",
   "metadata": {},
   "outputs": [
    {
     "data": {
      "text/plain": [
       "array([['74'],\n",
       "       ['103.52'],\n",
       "       ['78'],\n",
       "       ...,\n",
       "       ['73.9'],\n",
       "       ['70'],\n",
       "       ['70']], dtype=object)"
      ]
     },
     "execution_count": 61,
     "metadata": {},
     "output_type": "execute_result"
    }
   ],
   "source": [
    "# Импьютация константой\n",
    "imp3 = SimpleImputer(missing_values=np.nan, strategy='constant', fill_value='98')\n",
    "data_imp3 = imp3.fit_transform(cat_temp_data)\n",
    "data_imp3"
   ]
  },
  {
   "cell_type": "code",
   "execution_count": 62,
   "id": "361c3e9a-da82-493a-b80a-64a195f86959",
   "metadata": {},
   "outputs": [
    {
     "data": {
      "text/plain": [
       "array([' ', '0', '100', '100.5', '100.57', '100.6', '101', '102', '102.5',\n",
       "       '103', '103.2', '103.25', '103.26', '103.3', '103.5', '103.52',\n",
       "       '103.6', '104', '104.5', '104.55', '104.68', '105', '105.3',\n",
       "       '105.5', '106', '108.45', '108.495', '108.5', '108.6', '108.62',\n",
       "       '110', '110.4', '110.5', '112', '112.2', '113.4', '113.42', '115',\n",
       "       '116.3', '116.4', '116.6', '116.9', '117.3', '117.6', '118',\n",
       "       '118.3', '118.35', '120', '120.69', '120.7', '121', '121.3',\n",
       "       '121.31', '121.36', '121.4', '122.4', '123.37', '123.7', '125',\n",
       "       '126.2', '126.24', '126.3', '126.32', '127', '130', '132', '134',\n",
       "       '134.1', '135.1', '136', '138', '138.03', '138.08', '138.1',\n",
       "       '139.01', '139.46', '140', '141', '141.1', '142', '143', '144',\n",
       "       '147.5', '147.51', '147.8', '147.9', '147.94', '148', '148.31',\n",
       "       '149.5', '150', '152', '152.87', '153.86', '155', '156', '157.7',\n",
       "       '157.75', '158', '158.8', '160', '160.77', '161', '162', '163.2',\n",
       "       '163.7', '164.7', '165', '167.6', '167.62', '167.67', '168.5',\n",
       "       '168.7', '169', '170', '170.3', '170.63', '171', '171.5', '174.33',\n",
       "       '174.5', '174.57', '175', '175.56', '177', '177.46', '177.5',\n",
       "       '177.6', '178', '179.5', '181', '181.04', '183', '184', '186',\n",
       "       '187.4', '187.7', '187.74', '188', '189', '189.3', '190', '194',\n",
       "       '194.3', '194.4', '197', '197.2', '198.25', '198.5', '201.1',\n",
       "       '203', '203.2', '204', '214.56', '218', '224', '235', '241',\n",
       "       '241.4', '254.79', '254.8', '258', '261.4', '265', '270.9', '272',\n",
       "       '280', '282', '32.8', '34.2', '35', '35.5', '37', '37.48', '37.5',\n",
       "       '38', '38.4', '40.3', '400', '45', '46.3', '47', '47.3', '48.21',\n",
       "       '52', '52.8', '53', '53.26', '53.3', '53.5', '53.64', '55.2',\n",
       "       '55.23', '56.3', '57', '57.5', '57.6', '58', '58.16', '58.2',\n",
       "       '58.3', '58.33', '60', '60.2', '61.7', '62', '62.1', '63', '63.1',\n",
       "       '63.12', '64', '64.08', '64.1', '64.4', '64.9', '65', '65.3', '66',\n",
       "       '66.1', '66.6', '67', '67.04', '67.05', '67.06', '67.1', '68',\n",
       "       '68.05', '68.07', '68.1', '68.4', '69', '69.01', '70', '71',\n",
       "       '71.01', '72', '72.4', '73', '73.74', '73.75', '73.8', '73.9',\n",
       "       '73.94', '73.97', '74', '74.02', '74.9', '74.96', '75', '76',\n",
       "       '76.8', '76.9', '77', '78', '78.8', '78.9', '79.4', '80', '80.8',\n",
       "       '80.84', '80.9', '81.8', '81.83', '81.86', '82', '82.4', '82.5',\n",
       "       '82.85', '82.9', '83', '83.1', '83.11', '83.14', '83.8', '83.81',\n",
       "       '83.83', '84', '84.48', '84.8', '85', '85.8', '86', '86.7',\n",
       "       '86.79', '86.8', '87.2', '88', '88.2', '88.5', '88.7', '88.73',\n",
       "       '88.76', '88.8', '89.75', '89.84', '90', '91.1', '91.2', '91.7',\n",
       "       '91.72', '92', '92.7', '93.7', '93.87', '94', '94.68', '94.93',\n",
       "       '95', '97.7', '97.9', '98', '98.59', '98.6', '98.63', '98.79',\n",
       "       '98.82', '98.96', '98.97', '99', '99.23', '99.6'], dtype=object)"
      ]
     },
     "execution_count": 62,
     "metadata": {},
     "output_type": "execute_result"
    }
   ],
   "source": [
    "np.unique(data_imp3)"
   ]
  },
  {
   "cell_type": "code",
   "execution_count": 63,
   "id": "2514c04c-aa42-4e7c-958d-0b730ba74bf8",
   "metadata": {},
   "outputs": [
    {
     "data": {
      "text/plain": [
       "215"
      ]
     },
     "execution_count": 63,
     "metadata": {},
     "output_type": "execute_result"
    }
   ],
   "source": [
    "data_imp3[data_imp3=='98'].size"
   ]
  },
  {
   "cell_type": "code",
   "execution_count": 64,
   "id": "bd855161-4839-469e-a7bc-4ee6643b1fb5",
   "metadata": {},
   "outputs": [
    {
     "data": {
      "text/html": [
       "<div>\n",
       "<style scoped>\n",
       "    .dataframe tbody tr th:only-of-type {\n",
       "        vertical-align: middle;\n",
       "    }\n",
       "\n",
       "    .dataframe tbody tr th {\n",
       "        vertical-align: top;\n",
       "    }\n",
       "\n",
       "    .dataframe thead th {\n",
       "        text-align: right;\n",
       "    }\n",
       "</style>\n",
       "<table border=\"1\" class=\"dataframe\">\n",
       "  <thead>\n",
       "    <tr style=\"text-align: right;\">\n",
       "      <th></th>\n",
       "      <th>c1</th>\n",
       "    </tr>\n",
       "  </thead>\n",
       "  <tbody>\n",
       "    <tr>\n",
       "      <th>0</th>\n",
       "      <td>74</td>\n",
       "    </tr>\n",
       "    <tr>\n",
       "      <th>1</th>\n",
       "      <td>103.52</td>\n",
       "    </tr>\n",
       "    <tr>\n",
       "      <th>2</th>\n",
       "      <td>78</td>\n",
       "    </tr>\n",
       "    <tr>\n",
       "      <th>3</th>\n",
       "      <td>90</td>\n",
       "    </tr>\n",
       "    <tr>\n",
       "      <th>4</th>\n",
       "      <td>88.2</td>\n",
       "    </tr>\n",
       "    <tr>\n",
       "      <th>...</th>\n",
       "      <td>...</td>\n",
       "    </tr>\n",
       "    <tr>\n",
       "      <th>8123</th>\n",
       "      <td>82.85</td>\n",
       "    </tr>\n",
       "    <tr>\n",
       "      <th>8124</th>\n",
       "      <td>110</td>\n",
       "    </tr>\n",
       "    <tr>\n",
       "      <th>8125</th>\n",
       "      <td>73.9</td>\n",
       "    </tr>\n",
       "    <tr>\n",
       "      <th>8126</th>\n",
       "      <td>70</td>\n",
       "    </tr>\n",
       "    <tr>\n",
       "      <th>8127</th>\n",
       "      <td>70</td>\n",
       "    </tr>\n",
       "  </tbody>\n",
       "</table>\n",
       "<p>8128 rows × 1 columns</p>\n",
       "</div>"
      ],
      "text/plain": [
       "          c1\n",
       "0         74\n",
       "1     103.52\n",
       "2         78\n",
       "3         90\n",
       "4       88.2\n",
       "...      ...\n",
       "8123   82.85\n",
       "8124     110\n",
       "8125    73.9\n",
       "8126      70\n",
       "8127      70\n",
       "\n",
       "[8128 rows x 1 columns]"
      ]
     },
     "execution_count": 64,
     "metadata": {},
     "output_type": "execute_result"
    }
   ],
   "source": [
    "cat_enc = pd.DataFrame({'c1':data_imp2.T[0]})\n",
    "cat_enc"
   ]
  },
  {
   "cell_type": "code",
   "execution_count": 65,
   "id": "4fdab59b-98b0-4529-9c8b-b5d41d6782c8",
   "metadata": {},
   "outputs": [],
   "source": [
    "from sklearn.preprocessing import OneHotEncoder"
   ]
  },
  {
   "cell_type": "code",
   "execution_count": 66,
   "id": "6e6d5963-705d-4e85-b06c-99bfa03aedce",
   "metadata": {},
   "outputs": [],
   "source": [
    "ohe = OneHotEncoder()\n",
    "cat_enc_ohe = ohe.fit_transform(cat_enc[['c1']])"
   ]
  },
  {
   "cell_type": "code",
   "execution_count": 67,
   "id": "e280c676-2e5b-4842-9ea8-f3f9d033a9f8",
   "metadata": {},
   "outputs": [
    {
     "data": {
      "text/plain": [
       "(8128, 1)"
      ]
     },
     "execution_count": 67,
     "metadata": {},
     "output_type": "execute_result"
    }
   ],
   "source": [
    "cat_enc.shape"
   ]
  },
  {
   "cell_type": "code",
   "execution_count": 68,
   "id": "9f54ed5b-51b2-4ac6-8f7d-1cadb60804d2",
   "metadata": {},
   "outputs": [
    {
     "data": {
      "text/plain": [
       "(8128, 320)"
      ]
     },
     "execution_count": 68,
     "metadata": {},
     "output_type": "execute_result"
    }
   ],
   "source": [
    "cat_enc_ohe.shape"
   ]
  },
  {
   "cell_type": "code",
   "execution_count": 69,
   "id": "53f18952-7089-4870-8c3a-b8dc1e1f88a3",
   "metadata": {},
   "outputs": [
    {
     "data": {
      "text/plain": [
       "<8128x320 sparse matrix of type '<class 'numpy.float64'>'\n",
       "\twith 8128 stored elements in Compressed Sparse Row format>"
      ]
     },
     "execution_count": 69,
     "metadata": {},
     "output_type": "execute_result"
    }
   ],
   "source": [
    "cat_enc_ohe"
   ]
  },
  {
   "cell_type": "code",
   "execution_count": 70,
   "id": "4ebad342-7dcb-40de-9b77-2bf6cd1e1013",
   "metadata": {},
   "outputs": [
    {
     "data": {
      "text/plain": [
       "matrix([[0., 0., 0., ..., 0., 0., 0.],\n",
       "        [0., 0., 0., ..., 0., 0., 0.],\n",
       "        [0., 0., 0., ..., 0., 0., 0.],\n",
       "        ...,\n",
       "        [0., 0., 0., ..., 0., 0., 0.],\n",
       "        [0., 0., 0., ..., 0., 0., 0.],\n",
       "        [0., 0., 0., ..., 0., 0., 0.]])"
      ]
     },
     "execution_count": 70,
     "metadata": {},
     "output_type": "execute_result"
    }
   ],
   "source": [
    "cat_enc_ohe.todense()[0:10]\n"
   ]
  },
  {
   "cell_type": "code",
   "execution_count": 71,
   "id": "6dcc3121-23c5-470b-a9fe-8d60b6607141",
   "metadata": {},
   "outputs": [
    {
     "data": {
      "text/html": [
       "<div>\n",
       "<style scoped>\n",
       "    .dataframe tbody tr th:only-of-type {\n",
       "        vertical-align: middle;\n",
       "    }\n",
       "\n",
       "    .dataframe tbody tr th {\n",
       "        vertical-align: top;\n",
       "    }\n",
       "\n",
       "    .dataframe thead th {\n",
       "        text-align: right;\n",
       "    }\n",
       "</style>\n",
       "<table border=\"1\" class=\"dataframe\">\n",
       "  <thead>\n",
       "    <tr style=\"text-align: right;\">\n",
       "      <th></th>\n",
       "      <th>c1</th>\n",
       "    </tr>\n",
       "  </thead>\n",
       "  <tbody>\n",
       "    <tr>\n",
       "      <th>0</th>\n",
       "      <td>74</td>\n",
       "    </tr>\n",
       "    <tr>\n",
       "      <th>1</th>\n",
       "      <td>103.52</td>\n",
       "    </tr>\n",
       "    <tr>\n",
       "      <th>2</th>\n",
       "      <td>78</td>\n",
       "    </tr>\n",
       "    <tr>\n",
       "      <th>3</th>\n",
       "      <td>90</td>\n",
       "    </tr>\n",
       "    <tr>\n",
       "      <th>4</th>\n",
       "      <td>88.2</td>\n",
       "    </tr>\n",
       "    <tr>\n",
       "      <th>5</th>\n",
       "      <td>81.86</td>\n",
       "    </tr>\n",
       "    <tr>\n",
       "      <th>6</th>\n",
       "      <td>57.5</td>\n",
       "    </tr>\n",
       "    <tr>\n",
       "      <th>7</th>\n",
       "      <td>37</td>\n",
       "    </tr>\n",
       "    <tr>\n",
       "      <th>8</th>\n",
       "      <td>67.1</td>\n",
       "    </tr>\n",
       "    <tr>\n",
       "      <th>9</th>\n",
       "      <td>68.1</td>\n",
       "    </tr>\n",
       "  </tbody>\n",
       "</table>\n",
       "</div>"
      ],
      "text/plain": [
       "       c1\n",
       "0      74\n",
       "1  103.52\n",
       "2      78\n",
       "3      90\n",
       "4    88.2\n",
       "5   81.86\n",
       "6    57.5\n",
       "7      37\n",
       "8    67.1\n",
       "9    68.1"
      ]
     },
     "execution_count": 71,
     "metadata": {},
     "output_type": "execute_result"
    }
   ],
   "source": [
    "cat_enc.head(10)"
   ]
  },
  {
   "cell_type": "code",
   "execution_count": 72,
   "id": "13336bdc-0936-43c1-8d3b-02101f91bba9",
   "metadata": {},
   "outputs": [],
   "source": [
    "from sklearn.preprocessing import MinMaxScaler, StandardScaler, Normalizer"
   ]
  },
  {
   "cell_type": "code",
   "execution_count": 73,
   "id": "59c2f666-5064-4863-98d4-e691b4b90fab",
   "metadata": {},
   "outputs": [],
   "source": [
    "sc1 = MinMaxScaler()\n",
    "sc1_data = sc1.fit_transform(data[['selling_price']])"
   ]
  },
  {
   "cell_type": "code",
   "execution_count": 74,
   "id": "1b249d5d-62e5-46d5-b050-80a48fcf4c15",
   "metadata": {},
   "outputs": [
    {
     "data": {
      "image/png": "[encoded data removed]",
      "text/plain": [
       "<Figure size 640x480 with 1 Axes>"
      ]
     },
     "metadata": {},
     "output_type": "display_data"
    }
   ],
   "source": [
    "plt.hist(data['selling_price'], 50)\n",
    "plt.show()"
   ]
  },
  {
   "cell_type": "code",
   "execution_count": 75,
   "id": "f1d0d336-540a-4ab2-8409-ec65bc92b4f5",
   "metadata": {},
   "outputs": [
    {
     "data": {
      "image/png": "[encoded data removed]",
      "text/plain": [
       "<Figure size 640x480 with 1 Axes>"
      ]
     },
     "metadata": {},
     "output_type": "display_data"
    }
   ],
   "source": [
    "plt.hist(sc1_data, 50)\n",
    "plt.show()"
   ]
  },
  {
   "cell_type": "code",
   "execution_count": null,
   "id": "7921c8ff-8901-4ce1-a6a3-1ac524b5cfd6",
   "metadata": {},
   "outputs": [],
   "source": []
  }
 ],
 "metadata": {
  "kernelspec": {
   "display_name": "Python 3 (ipykernel)",
   "language": "python",
   "name": "python3"
  },
  "language_info": {
   "codemirror_mode": {
    "name": "ipython",
    "version": 3
   },
   "file_extension": ".py",
   "mimetype": "text/x-python",
   "name": "python",
   "nbconvert_exporter": "python",
   "pygments_lexer": "ipython3",
   "version": "3.12.1"
  }
 },
 "nbformat": 4,
 "nbformat_minor": 5
}
