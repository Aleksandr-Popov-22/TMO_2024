{
 "cells": [
  {
   "cell_type": "markdown",
   "metadata": {},
   "source": [
    "#### Попов А.В. ИУ5-61Б Вариант12"
   ]
  },
  {
   "cell_type": "markdown",
   "metadata": {},
   "source": [
    "## 1. Предобработка данных"
   ]
  },
  {
   "cell_type": "code",
   "execution_count": 31,
   "metadata": {},
   "outputs": [
    {
     "name": "stdout",
     "output_type": "stream",
     "text": [
      "   page_id                         name                              urlslug  \\\n",
      "0     1422         Batman (Bruce Wayne)         \\/wiki\\/Batman_(Bruce_Wayne)   \n",
      "1    23387        Superman (Clark Kent)        \\/wiki\\/Superman_(Clark_Kent)   \n",
      "2     1458   Green Lantern (Hal Jordan)   \\/wiki\\/Green_Lantern_(Hal_Jordan)   \n",
      "3     1659     James Gordon (New Earth)     \\/wiki\\/James_Gordon_(New_Earth)   \n",
      "4     1576  Richard Grayson (New Earth)  \\/wiki\\/Richard_Grayson_(New_Earth)   \n",
      "\n",
      "                ID            ALIGN         EYE        HAIR              SEX  \\\n",
      "0  Secret Identity  Good Characters   Blue Eyes  Black Hair  Male Characters   \n",
      "1  Secret Identity  Good Characters   Blue Eyes  Black Hair  Male Characters   \n",
      "2  Secret Identity  Good Characters  Brown Eyes  Brown Hair  Male Characters   \n",
      "3  Public Identity  Good Characters  Brown Eyes  White Hair  Male Characters   \n",
      "4  Secret Identity  Good Characters   Blue Eyes  Black Hair  Male Characters   \n",
      "\n",
      "   GSM              ALIVE  APPEARANCES FIRST APPEARANCE    YEAR  \n",
      "0  NaN  Living Characters       3093.0        1939, May  1939.0  \n",
      "1  NaN  Living Characters       2496.0    1986, October  1986.0  \n",
      "2  NaN  Living Characters       1565.0    1959, October  1959.0  \n",
      "3  NaN  Living Characters       1316.0   1987, February  1987.0  \n",
      "4  NaN  Living Characters       1237.0      1940, April  1940.0  \n",
      "<class 'pandas.core.frame.DataFrame'>\n",
      "RangeIndex: 6896 entries, 0 to 6895\n",
      "Data columns (total 13 columns):\n",
      " #   Column            Non-Null Count  Dtype  \n",
      "---  ------            --------------  -----  \n",
      " 0   page_id           6896 non-null   int64  \n",
      " 1   name              6896 non-null   object \n",
      " 2   urlslug           6896 non-null   object \n",
      " 3   ID                4883 non-null   object \n",
      " 4   ALIGN             6295 non-null   object \n",
      " 5   EYE               3268 non-null   object \n",
      " 6   HAIR              4622 non-null   object \n",
      " 7   SEX               6771 non-null   object \n",
      " 8   GSM               64 non-null     object \n",
      " 9   ALIVE             6893 non-null   object \n",
      " 10  APPEARANCES       6541 non-null   float64\n",
      " 11  FIRST APPEARANCE  6827 non-null   object \n",
      " 12  YEAR              6827 non-null   float64\n",
      "dtypes: float64(2), int64(1), object(10)\n",
      "memory usage: 700.5+ KB\n",
      "None\n"
     ]
    }
   ],
   "source": [
    "import pandas as pd\n",
    "\n",
    "# Загрузка данных\n",
    "data = pd.read_csv('dc-wikia-data.csv')\n",
    "\n",
    "# Проверка первых строк\n",
    "print(data.head())\n",
    "\n",
    "# Проверка информации о данных\n",
    "print(data.info())\n"
   ]
  },
  {
   "cell_type": "code",
   "execution_count": 32,
   "metadata": {},
   "outputs": [
    {
     "name": "stdout",
     "output_type": "stream",
     "text": [
      "   page_id                         name                              urlslug  \\\n",
      "0     1422         Batman (Bruce Wayne)         \\/wiki\\/Batman_(Bruce_Wayne)   \n",
      "1    23387        Superman (Clark Kent)        \\/wiki\\/Superman_(Clark_Kent)   \n",
      "2     1458   Green Lantern (Hal Jordan)   \\/wiki\\/Green_Lantern_(Hal_Jordan)   \n",
      "3     1659     James Gordon (New Earth)     \\/wiki\\/James_Gordon_(New_Earth)   \n",
      "4     1576  Richard Grayson (New Earth)  \\/wiki\\/Richard_Grayson_(New_Earth)   \n",
      "\n",
      "                ID            ALIGN         EYE        HAIR              SEX  \\\n",
      "0  Secret Identity  Good Characters   Blue Eyes  Black Hair  Male Characters   \n",
      "1  Secret Identity  Good Characters   Blue Eyes  Black Hair  Male Characters   \n",
      "2  Secret Identity  Good Characters  Brown Eyes  Brown Hair  Male Characters   \n",
      "3  Public Identity  Good Characters  Brown Eyes  White Hair  Male Characters   \n",
      "4  Secret Identity  Good Characters   Blue Eyes  Black Hair  Male Characters   \n",
      "\n",
      "   GSM              ALIVE  APPEARANCES FIRST APPEARANCE    YEAR  \n",
      "0  NaN  Living Characters       3093.0        1939, May  1939.0  \n",
      "1  NaN  Living Characters       2496.0    1986, October  1986.0  \n",
      "2  NaN  Living Characters       1565.0    1959, October  1959.0  \n",
      "3  NaN  Living Characters       1316.0   1987, February  1987.0  \n",
      "4  NaN  Living Characters       1237.0      1940, April  1940.0  \n"
     ]
    }
   ],
   "source": [
    "# Удаление дубликатов столбцов\n",
    "data = data.loc[:,~data.columns.duplicated()]\n",
    "\n",
    "# Проверка после удаления дубликатов\n",
    "print(data.head())"
   ]
  },
  {
   "cell_type": "code",
   "execution_count": 33,
   "metadata": {},
   "outputs": [
    {
     "name": "stdout",
     "output_type": "stream",
     "text": [
      "page_id             0\n",
      "name                0\n",
      "urlslug             0\n",
      "ID                  0\n",
      "ALIGN               0\n",
      "EYE                 0\n",
      "HAIR                0\n",
      "SEX                 0\n",
      "GSM                 0\n",
      "ALIVE               0\n",
      "APPEARANCES         0\n",
      "FIRST APPEARANCE    0\n",
      "YEAR                0\n",
      "dtype: int64\n"
     ]
    }
   ],
   "source": [
    "# Заполнение пропущенных значений\n",
    "data = data.ffill().bfill()  # Простой способ, можно уточнить в зависимости от данных\n",
    "\n",
    "# Проверка пропущенных значений\n",
    "print(data.isnull().sum())"
   ]
  },
  {
   "cell_type": "markdown",
   "metadata": {},
   "source": [
    "Кодирование категориальных признаков\n",
    "Преобразуем категориальные признаки в числовые."
   ]
  },
  {
   "cell_type": "code",
   "execution_count": 34,
   "metadata": {},
   "outputs": [
    {
     "name": "stdout",
     "output_type": "stream",
     "text": [
      "   page_id  name  urlslug  ID  ALIGN  EYE  HAIR  SEX  GSM  ALIVE  APPEARANCES  \\\n",
      "0     1422   597      597   2      1    3     0    2    0      1       3093.0   \n",
      "1    23387  6007     6006   2      1    3     0    2    0      1       2496.0   \n",
      "2     1458  2487     2487   2      1    4     3    2    0      1       1565.0   \n",
      "3     1659  3002     3003   1      1    4    16    2    0      1       1316.0   \n",
      "4     1576  5280     5279   2      1    3     0    2    0      1       1237.0   \n",
      "\n",
      "   FIRST APPEARANCE    YEAR  \n",
      "0                14  1939.0  \n",
      "1               454  1986.0  \n",
      "2               155  1959.0  \n",
      "3               460  1987.0  \n",
      "4                19  1940.0  \n"
     ]
    }
   ],
   "source": [
    "from sklearn.preprocessing import LabelEncoder\n",
    "\n",
    "# Применение LabelEncoder к категориальным признакам\n",
    "label_encoders = {}\n",
    "for column in data.select_dtypes(include=['object']).columns:\n",
    "    le = LabelEncoder()\n",
    "    data[column] = le.fit_transform(data[column])\n",
    "    label_encoders[column] = le\n",
    "\n",
    "# Проверка преобразованных данных\n",
    "print(data.head())"
   ]
  },
  {
   "cell_type": "markdown",
   "metadata": {},
   "source": [
    "## 2. Разделение данных на обучающую и тестовую выборки\n",
    "Разделим данные на признаки (X) и целевую переменную (y), а затем на обучающую и тестовую выборки."
   ]
  },
  {
   "cell_type": "code",
   "execution_count": 35,
   "metadata": {},
   "outputs": [
    {
     "name": "stdout",
     "output_type": "stream",
     "text": [
      "(5516, 12) (1380, 12) (5516,) (1380,)\n"
     ]
    }
   ],
   "source": [
    "from sklearn.model_selection import train_test_split\n",
    "\n",
    "# Предположим, что последний столбец — это целевая переменная\n",
    "X = data.iloc[:, :-1]\n",
    "y = data.iloc[:, -1]\n",
    "\n",
    "X_train, X_test, y_train, y_test = train_test_split(X, y, test_size=0.2, random_state=42)\n",
    "\n",
    "# Проверка размеров выборок\n",
    "print(X_train.shape, X_test.shape, y_train.shape, y_test.shape)"
   ]
  },
  {
   "cell_type": "markdown",
   "metadata": {},
   "source": [
    "## 3. Построение моделей"
   ]
  },
  {
   "cell_type": "markdown",
   "metadata": {},
   "source": [
    "#### Линейная регрессия"
   ]
  },
  {
   "cell_type": "code",
   "execution_count": 36,
   "metadata": {},
   "outputs": [
    {
     "name": "stdout",
     "output_type": "stream",
     "text": [
      "Среднеквадратичная ошибка = 4.043512901211023\n",
      "Средняя абсолютная ошибка = 1.471235447850746\n",
      "Коэффициент детерминации = 0.9871969165957701\n"
     ]
    }
   ],
   "source": [
    "from sklearn.linear_model import LinearRegression\n",
    "from sklearn.metrics import mean_absolute_error, mean_squared_error, r2_score\n",
    "\n",
    "# Создание и обучение модели линейной регрессии\n",
    "lr = LinearRegression()\n",
    "lr.fit(X_train, y_train)\n",
    "\n",
    "# Предсказание на тестовой выборке\n",
    "y_pred_lr = lr.predict(X_test)\n",
    "\n",
    "# Оценка модели\n",
    "mae = mean_absolute_error(y_test, y_pred_lr)\n",
    "mse = mean_squared_error(y_test, y_pred_lr)\n",
    "r2 = r2_score(y_test, y_pred_lr)\n",
    "\n",
    "print(f\"Среднеквадратичная ошибка = {mse}\")\n",
    "print(f\"Средняя абсолютная ошибка = {mae}\")\n",
    "print(f\"Коэффициент детерминации = {r2}\")"
   ]
  },
  {
   "cell_type": "markdown",
   "metadata": {},
   "source": [
    "#### Случайный лес"
   ]
  },
  {
   "cell_type": "code",
   "execution_count": 37,
   "metadata": {},
   "outputs": [
    {
     "name": "stdout",
     "output_type": "stream",
     "text": [
      "Среднеквадратичная ошибка = 0.002407028985507053\n",
      "Средняя абсолютная ошибка = 0.005615942028984024\n",
      "Коэффициент детерминации = 0.999992378559532\n"
     ]
    }
   ],
   "source": [
    "from sklearn.ensemble import RandomForestRegressor\n",
    "# Создание и обучение модели случайного леса\n",
    "rf = RandomForestRegressor(n_estimators=100, random_state=42)\n",
    "rf.fit(X_train, y_train)\n",
    "\n",
    "# Предсказание на тестовой выборке\n",
    "y_pred_rf = rf.predict(X_test)\n",
    "\n",
    "# Оценка модели\n",
    "mae = mean_absolute_error(y_test, y_pred_rf)\n",
    "mse = mean_squared_error(y_test, y_pred_rf)\n",
    "r2 = r2_score(y_test, y_pred_rf)\n",
    "\n",
    "print(f\"Среднеквадратичная ошибка = {mse}\")\n",
    "print(f\"Средняя абсолютная ошибка = {mae}\")\n",
    "print(f\"Коэффициент детерминации = {r2}\")"
   ]
  },
  {
   "cell_type": "markdown",
   "metadata": {},
   "source": [
    "Исходя из результатов, делаем вывод, что модель случайного леса предпочтительнее для данной задачи, тк среднеквадратичная ошибка(MSE) и средняя абсолютная ошибка(MAE) у нее меньше, а коэффициент детерминации больше."
   ]
  },
  {
   "cell_type": "code",
   "execution_count": null,
   "metadata": {},
   "outputs": [],
   "source": []
  }
 ],
 "metadata": {
  "kernelspec": {
   "display_name": "Python 3 (ipykernel)",
   "language": "python",
   "name": "python3"
  },
  "language_info": {
   "codemirror_mode": {
    "name": "ipython",
    "version": 3
   },
   "file_extension": ".py",
   "mimetype": "text/x-python",
   "name": "python",
   "nbconvert_exporter": "python",
   "pygments_lexer": "ipython3",
   "version": "3.12.1"
  },
  "vscode": {
   "interpreter": {
    "hash": "7299411f274db08d71a32cfd4eccf800a49003397182392a791bc1bc769eb3c7"
   }
  }
 },
 "nbformat": 4,
 "nbformat_minor": 4
}
